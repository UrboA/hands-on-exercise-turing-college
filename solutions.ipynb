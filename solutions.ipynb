{
 "cells": [
  {
   "cell_type": "markdown",
   "metadata": {},
   "source": [
    "# Sprint 3 Part 4: Hands-on - Repository Refactoring"
   ]
  },
  {
   "cell_type": "markdown",
   "metadata": {},
   "source": [
    "## How to read this document\n",
    "You can read this document in a couple of different ways, depending on how much time you have and how much success you have had in solving this task on your own. For most sections, our suggestions are as follows:\n",
    "- *If you did not manage to complete the task on your own*: before checking the each suggested codeblock, try to write your own version of it first. If you struggle, read the codeblock once to get a rough idea of what it should look like, close this window and try to continue writing the code / solution. Repeat this quick scan of the code block everytime you feel stuck until you manage to write code / solution that you feel you understand and which does what you want it to do based on the descriptions given. Check the suggested code block afterwards to confirm everything is correct and continue to the next section afterwards.\n",
    "- *If you have managed to complete the task on your own:* read the text and whenever you encounter a code block, try to understand what it does by analysing it. Reading code written by others will be a useful skill that you should start practicing early. Also, when you read the code, try to think immediately which parts you would write differently and why.\n",
    "\n",
    "\n",
    "The order in which the sections are presented is not important. You can start from whichever task you want, this is only a suggested order to tackle the requirements. You can look at the outline and skip to the section you need to work on.\n",
    "\n",
    "Some of the tasks in this project, such as adding type hints, and docstrings, are repetitive, thus this document will only show some isolated examples, and how to tackle them."
   ]
  },
  {
   "cell_type": "markdown",
   "metadata": {},
   "source": [
    "## AI assistants\n",
    "\n",
    "For this project, we are required to use an AI assistant to help us with the code. Thus, we try to show how to use one in this document as much as possible. For this guide, we use Cursor as our AI tool. If you want to follow along, you can install Cursor from [here](https://www.cursor.com/)."
   ]
  },
  {
   "cell_type": "markdown",
   "metadata": {},
   "source": [
    "## Repository setup\n",
    "\n",
    "The first step is step is to download the codebase, initialize a git repository and add it to our remote, in this case GitHub.\n",
    "\n",
    "<br>\n",
    "\n",
    "**You may try to do this step yourself before reading further**\n",
    "\n",
    "<br>\n"
   ]
  },
  {
   "cell_type": "markdown",
   "metadata": {},
   "source": [
    "### Creating the local repository\n",
    "\n",
    "First, we need to create a folder for the project and name it how we want to name our repository, for example `dnd-game`.\n",
    "\n",
    "Once we have created the folder, we can start by setting up the repository. We need to initialize the repository and add the remote origin.\n",
    "\n",
    "Change the directory to the project folder (``cd dnd-game``) and run the following command to initialize the repository:\n",
    "```bash\n",
    "git init\n",
    "```\n",
    "\n",
    "This will create the local repository. Next, we need to add the repository to GitHub."
   ]
  },
  {
   "cell_type": "markdown",
   "metadata": {},
   "source": [
    "### Adding the repository to GitHub\n",
    "\n",
    "First, we need to create a new repository on GitHub.\n",
    "\n",
    "Add a repository name using the one you chose earlier, and click on the \"Create repository\" button. We won't add a README or gitignore file, since they are already present in the codebase.\n",
    "\n",
    "<img src=\"https://i.imgur.com/BTYg3G5.png\" width=\"400\" />"
   ]
  },
  {
   "cell_type": "markdown",
   "metadata": {},
   "source": [
    "The next step is to point the local repository to the remote repository we just created on GitHub, so that when we push our changes, they are sent to the remote repository.\n",
    "\n",
    "To do this, we need to add the remote origin to the local repository.  Use the following command, replacing `<YOUR-USERNAME>` with your GitHub username and `<REPOSITORY-NAME>` with the name of the repository you created earlier.\n",
    "\n",
    "```bash\n",
    "git remote add origin https://github.com/<YOUR-USERNAME>/<REPOSITORY-NAME>.git\n",
    "```"
   ]
  },
  {
   "cell_type": "markdown",
   "metadata": {},
   "source": [
    "After we've initialized the local and remote repositories, both of them will be empty, so we need to push the initial codebase to the remote repository.\n",
    "\n",
    "For this, we simply do the standard git workflow of adding, committing and pushing the changes to the remote repository.\n",
    "\n",
    "```bash\n",
    "git add .\n",
    "git commit -m \"Initial commit\"\n",
    "git push origin main\n",
    "```"
   ]
  },
  {
   "cell_type": "markdown",
   "metadata": {},
   "source": [
    "Great! Now we have a local and remote repository, we can better track the changes we make to the codebase."
   ]
  },
  {
   "cell_type": "markdown",
   "metadata": {},
   "source": [
    "## Understanding the codebase\n",
    "\n"
   ]
  },
  {
   "cell_type": "markdown",
   "metadata": {},
   "source": [
    "The first step in understanding a codebase is always to read the README file, if one is provided. Open it and read it carefully.\n"
   ]
  },
  {
   "cell_type": "markdown",
   "metadata": {},
   "source": [
    "As we can see, the codebase is a simple DnD game, where we can create a character, and then play the game. It describes the current features, as well as how to set it up and run it. Let's do that!\n",
    "\n",
    "<br>\n",
    "\n",
    "**You may try to do this step yourself before reading further**\n",
    "\n",
    "<br>\n"
   ]
  },
  {
   "cell_type": "markdown",
   "metadata": {},
   "source": [
    "### Setup"
   ]
  },
  {
   "cell_type": "markdown",
   "metadata": {},
   "source": [
    "#### Create a virtual environment\n",
    "\n",
    "Run the following commands given in the README file in the terminal (make sure you are in the project folder) to create a virtual environment.\n",
    "\n",
    "```bash\n",
    "python -m venv .venv\n",
    "source .venv/bin/activate  # On Windows: .venv\\Scripts\\activate\n",
    "```\n",
    "\n",
    "You can check if the virtual environment was created successfully by running the following command:\n",
    "\n",
    "```bash\n",
    "which python\n",
    "```\n",
    "\n",
    "This should return the path to the python executable in the virtual environment, which should be in the `.venv/bin/` directory in your project folder.\n"
   ]
  },
  {
   "cell_type": "markdown",
   "metadata": {},
   "source": [
    "#### Install dependencies\n",
    "\n",
    "Run the following command to install the dependencies listed in the `requirements.txt` file:\n",
    "\n",
    "```bash\n",
    "pip install -r requirements.txt\n",
    "```\n",
    "\n",
    "You can check if the dependencies were installed successfully by running the following command:\n",
    "\n",
    "```bash\n",
    "pip list\n",
    "```"
   ]
  },
  {
   "cell_type": "markdown",
   "metadata": {},
   "source": [
    "### Using Cursor to understand the codebase"
   ]
  },
  {
   "cell_type": "markdown",
   "metadata": {
    "vscode": {
     "languageId": "plaintext"
    }
   },
   "source": [
    "Whenever we are given a new codebase, we need to understand the overall structure of the codebase.\n",
    "\n",
    "This is a great opportunity to use AI-assisted IDEs, which can look at entire codebases."
   ]
  },
  {
   "cell_type": "markdown",
   "metadata": {},
   "source": [
    "The main thing we need to ensure when prompting Cursor is that we are providing with the intended context. If we provided with too little or incorrect context, the AI will not be able to help us as effectively, or even hallucinate. If we provide with too much context, the AI might not be as effective or precise, so we need to find the right balance.\n",
    "\n",
    "For this case, the context is the entire codebase, so if you have it open, you can just ask Cursor to explain it without adding anything to the \"@ Add context\".\n",
    "\n",
    "<br>\n",
    "\n",
    "**You may try to do this step yourself before reading further**\n",
    "\n",
    "<br>"
   ]
  },
  {
   "cell_type": "markdown",
   "metadata": {},
   "source": [
    "Let's thing about the things we want to understand:\n",
    "\n",
    "1. The domain knowledge\n",
    "2. The overall structure of the codebase\n",
    "3. The main functionalities of the codebase\n",
    "4. The key abstractions and their relationships\n",
    "5. The requirements\n",
    "6. The development setup\n",
    "etc.\n",
    "\n",
    "Thus, we can prompt Cursor with something like this:\n",
    "\n",
    "\"I've been given this codebase on a DnD game. Please help me understand the overall structure of the codebase, the domain knowledge, requirements, functionalities, etc.\"\n",
    "\n",
    "![Understanding the codebase](https://i.imgur.com/P2gYBYp.gif)\n",
    "\n"
   ]
  },
  {
   "cell_type": "markdown",
   "metadata": {},
   "source": [
    "## Completing the TODO"
   ]
  },
  {
   "cell_type": "markdown",
   "metadata": {},
   "source": [
    "Let's look at the `TODO.txt` file to see what we need to complete.\n",
    "\n",
    "Simple refactoring tasks, such as adding type hints and docstrings are a great way to get familiar with the codebase. These are also good tasks to use an AI assistant for.\n",
    "\n",
    "Other features will require a more in-depth understanding of the codebase, and most likely multi-step prompts to the AI assistant.\n",
    "\n",
    "For each task, we'll create a new branch, implement the changes, commit them and push them to the remote repository. After we're done, we'll merge the changes into the main branch.\n",
    "\n",
    "Let's start with the simple tasks."
   ]
  },
  {
   "cell_type": "markdown",
   "metadata": {},
   "source": [
    "### Adding type hints and docstrings\n",
    "#### Creating a new branch\n",
    "\n",
    "Let's create a new branch for this task. Let's name it something informative, like `type-hints-and-docstrings`.\n",
    "\n",
    "```bash\n",
    "git checkout -b type-hints-and-docstrings\n",
    "```\n",
    "\n",
    "Nice! Now we can start working on the task.\n"
   ]
  },
  {
   "cell_type": "markdown",
   "metadata": {},
   "source": [
    "#### Type hints"
   ]
  },
  {
   "cell_type": "markdown",
   "metadata": {},
   "source": [
    "The TODO file specifies that the we need to add comprehensive type hints, and ensure that mypy passes in strict mode. Let's check the current state of the codebase.\n",
    "\n",
    "Run the following command to check in which files we have type errors:\n",
    "```bash\n",
    "mypy dndgame --strict\n",
    "```\n",
    "\n",
    "Here's what we get at the beginning:\n",
    "\n",
    "![Type errors](https://i.imgur.com/OeElYEe.png)\n",
    "\n",
    "We have 8 type errors spread over `combat.py` and `character.py`.\n",
    "\n"
   ]
  },
  {
   "cell_type": "markdown",
   "metadata": {},
   "source": [
    "<br>\n",
    "\n",
    "**You may try to do this step yourself before reading further**\n",
    "\n",
    "<br>"
   ]
  },
  {
   "cell_type": "markdown",
   "metadata": {},
   "source": [
    "##### Character.py"
   ]
  },
  {
   "cell_type": "markdown",
   "metadata": {},
   "source": [
    "Have a look at this tasks description in the Course material for an example of how to fix the type hints in `character.py` using Cursor."
   ]
  },
  {
   "cell_type": "markdown",
   "metadata": {},
   "source": [
    "##### Combat.py"
   ]
  },
  {
   "cell_type": "markdown",
   "metadata": {},
   "source": [
    "For the `combat.py` file, it's not as trivial. Let's look at the code to find some clues.\n",
    "\n",
    "```python\n",
    "def __init__(self, player, enemy):\n",
    "    self.player = player\n",
    "    self.enemy = enemy\n",
    "    self.round = 0\n",
    "    self.initiative_order = []\n",
    "```"
   ]
  },
  {
   "cell_type": "markdown",
   "metadata": {},
   "source": [
    "The `__init__` method takes two arguments, `player` and `enemy`, it's not entirely clear what types they are. Let's have a look at where they are used.\n",
    "\n",
    "```python\n",
    "def roll_initiative(self):\n",
    "    \"\"\"Roll initiative for combat order.\"\"\"\n",
    "    player_init = roll(20, 1) + self.player.get_modifier(\"DEX\")\n",
    "    enemy_init = roll(20, 1) + self.enemy.get_modifier(\"DEX\")\n",
    "\n",
    "    if player_init >= enemy_init:\n",
    "        self.initiative_order = [self.player, self.enemy]\n",
    "    else:\n",
    "        self.initiative_order = [self.enemy, self.player]\n",
    "\n",
    "    return self.initiative_order\n",
    "```"
   ]
  },
  {
   "cell_type": "markdown",
   "metadata": {},
   "source": [
    "We can see that `player` and `enemy` have methods of `get_modifier`. Let's search the codebase to find where they are defined."
   ]
  },
  {
   "cell_type": "markdown",
   "metadata": {},
   "source": [
    "You'll find that they are defined in the `Character` class, which makes sense, considering both the names and the fact that they are used in the `Combat` class. So that means that `player` and `enemy` are instances of the `Character` class.\n",
    "\n",
    "So we write a type hint for `player` and `enemy` as `Character` and we're good to go."
   ]
  },
  {
   "cell_type": "markdown",
   "metadata": {},
   "source": [
    "Then we look at the `attack` method:\n",
    "\n",
    "```python\n",
    "def attack(self, attacker, defender):\n",
    "    attack_roll = roll(20, 1) + attacker.get_modifier(\"STR\")\n",
    "    weapon_max_damage = 6\n",
    "    if attack_roll >= defender.armor_class:\n",
    "        damage = roll(weapon_max_damage, 1)\n",
    "        defender.hp -= damage\n",
    "        return damage\n",
    "    return 0\n",
    "```"
   ]
  },
  {
   "cell_type": "markdown",
   "metadata": {},
   "source": [
    "From the previous code, we can already suspect that `attacker` and `defender` are instances of the `Character` class. And this is confirmed by the call of `get_modifer` and the use of the `armor_class` attribute. So we write a type hint for `attacker` and `defender` as `Character`.\n",
    "\n",
    "What about the return type? Well we see in one line that it returns an `int`, and in the other it returns `damage`, which comes from the `roll` function, which also return an `int`. Thus, we can define the return type as `int`.\n",
    "\n",
    "\n",
    "> **Tip**: IDEs like Cursor and VS Code have a feature called \"hover\" which allows you to see the type hints of the variables in the code. Where the type hints can be clearly inferred, it will show the type hint in the hover, otherwise it will give 'Any' as the type hint."
   ]
  },
  {
   "cell_type": "markdown",
   "metadata": {},
   "source": [
    "`roll_initiative` returns either a list of the player and enemy, or the enemy and player, depending on who has the higher initiative roll. As we already know they are instances of the `Character` class, we can define the return type as `List[Character]`.\n",
    "\n",
    "```python\n",
    "def roll_initiative(self) -> List[Character]:\n",
    "    ...\n",
    "```\n",
    "\n",
    "\n"
   ]
  },
  {
   "cell_type": "markdown",
   "metadata": {},
   "source": [
    "We also see that we set the `initiative_order` attribute in the `roll_initiative` method. So we need to add a type hint for it as well.\n",
    "\n",
    "```python\n",
    "self.initiative_order: List[Character] = []\n",
    "```\n",
    "\n"
   ]
  },
  {
   "cell_type": "markdown",
   "metadata": {},
   "source": [
    "> **Question**: Do you know a better data structure to use for the `initiative_order`, considering that it will always be two characters?"
   ]
  },
  {
   "cell_type": "markdown",
   "metadata": {},
   "source": [
    "Have a look at this [commit](commit) in the suggested solution repository for an example of how the type hints were fixed for `character.py` and `combat.py`."
   ]
  },
  {
   "cell_type": "markdown",
   "metadata": {},
   "source": [
    "> **Note**: You might have used the `str` type hint for `race`, and that is entirely fine. `Literal[\"Dwarf\", \"Elf\", \"Human\"]` is just a more specific type hint that narrows down the possible values. You might also have a look at [enums](https://docs.python.org/3/library/enum.html) in Python for an even better solution."
   ]
  },
  {
   "cell_type": "markdown",
   "metadata": {},
   "source": [
    "Let's run `mypy` to check if we have any type errors left.\n",
    "```bash\n",
    "mypy dndgame --strict\n",
    "```"
   ]
  },
  {
   "cell_type": "markdown",
   "metadata": {},
   "source": [
    "Hopefully you got this:\n",
    "\n",
    "```bash\n",
    "> mypy dndgame --strict\n",
    "Success: no issues found in 6 source files\n",
    "```\n",
    "\n",
    "\n",
    "\n"
   ]
  },
  {
   "cell_type": "markdown",
   "metadata": {},
   "source": [
    "If yes, stage the changes, commit them, and push them to the remote repository. Make sure to be clear about what was changed.\n",
    "\n",
    "```bash\n",
    "git add .\n",
    "git commit -m \"refactor: add type hints to character and combat\"\n",
    "```"
   ]
  },
  {
   "cell_type": "markdown",
   "metadata": {},
   "source": [
    "You can go to your branch on GitHub and have a look at the changes we made. It will highlight the exact code differences."
   ]
  },
  {
   "cell_type": "markdown",
   "metadata": {},
   "source": [
    "#### Docstrings"
   ]
  },
  {
   "cell_type": "markdown",
   "metadata": {},
   "source": [
    "To add the docstrings, we'll need to understand what each class and function does. We'll need to give a short description of what the function does, what the parameters are, and what the return value/type is."
   ]
  },
  {
   "cell_type": "markdown",
   "metadata": {},
   "source": [
    "##### Character.py\n",
    "\n",
    "Have a look at this tasks description in the Course material for an example of how to add the docstrings in `character.py` using Cursor.\n",
    "\n",
    "##### Combat.py\n",
    "\n",
    "\n",
    "<br>\n",
    "\n",
    "**You may try to do this step yourself before reading further**\n",
    "\n",
    "<br>\n"
   ]
  },
  {
   "cell_type": "markdown",
   "metadata": {},
   "source": [
    "Let's use the same approach as before, and prompt Cursor to get an understanding of the class. We can try prompting it with something like this:\n",
    "\n",
    "\"What does the Combat class do? Please add docstrings in Google style to the class.\"\n",
    "\n"
   ]
  }
 ],
 "metadata": {
  "kernelspec": {
   "display_name": ".venv",
   "language": "python",
   "name": "python3"
  },
  "language_info": {
   "codemirror_mode": {
    "name": "ipython",
    "version": 3
   },
   "file_extension": ".py",
   "mimetype": "text/x-python",
   "name": "python",
   "nbconvert_exporter": "python",
   "pygments_lexer": "ipython3",
   "version": "3.11.4"
  }
 },
 "nbformat": 4,
 "nbformat_minor": 2
}
